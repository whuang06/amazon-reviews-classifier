{
 "cells": [
  {
   "cell_type": "code",
   "execution_count": 10,
   "id": "10a22ef3-9d97-489a-a68a-c1904642b3af",
   "metadata": {},
   "outputs": [],
   "source": [
    "import pandas as pd\n",
    "import numpy as np\n",
    "import matplotlib.pyplot as plt\n",
    "from textblob import TextBlob\n",
    "import glob\n",
    "import os\n",
    "\n",
    "# Setup\n",
    "file_paths = glob.glob(\"/Users/william/Desktop/amazon case study/archive/*.tsv\")\n",
    "output_file = \"/Users/william/Desktop/amazon case study/cleaned_sampled_reviews_mini.csv\"\n",
    "\n",
    "# If output file already exists, remove it\n",
    "if os.path.exists(output_file):\n",
    "    os.remove(output_file)"
   ]
  },
  {
   "cell_type": "code",
   "execution_count": 11,
   "id": "12df7f05-b760-47c4-bcd6-458260b3a4fd",
   "metadata": {},
   "outputs": [],
   "source": [
    "# Process in chunks and write incrementally\n",
    "chunk_size = 200000\n",
    "for fp in file_paths:\n",
    "    reader = pd.read_csv(fp, sep='\\t',\n",
    "                         chunksize=chunk_size, on_bad_lines='skip', low_memory=False)\n",
    "\n",
    "    for chunk in reader:\n",
    "        # Clean within chunk\n",
    "        chunk.dropna(subset=[\"review_headline\", \"review_body\", \"review_date\", \"verified_purchase\", \"helpful_votes\", \"total_votes\"], inplace=True)\n",
    "\n",
    "        chunk['review_date'] = pd.to_datetime(chunk['review_date'], errors='coerce')\n",
    "        chunk.dropna(subset=[\"review_date\"], inplace=True)\n",
    "\n",
    "        chunk.drop_duplicates(subset=\"review_id\", inplace=True)\n",
    "\n",
    "        # Sample before writing to reduce total data size\n",
    "        if not chunk.empty:\n",
    "            chunk = chunk.sample(frac=0.05, random_state=42)\n",
    "\n",
    "        # Append to output file\n",
    "        if not chunk.empty:\n",
    "            chunk.to_csv(output_file, mode='a', header=not os.path.exists(output_file), index=False)"
   ]
  }
 ],
 "metadata": {
  "kernelspec": {
   "display_name": "Python 3 (ipykernel)",
   "language": "python",
   "name": "python3"
  },
  "language_info": {
   "codemirror_mode": {
    "name": "ipython",
    "version": 3
   },
   "file_extension": ".py",
   "mimetype": "text/x-python",
   "name": "python",
   "nbconvert_exporter": "python",
   "pygments_lexer": "ipython3",
   "version": "3.12.2"
  }
 },
 "nbformat": 4,
 "nbformat_minor": 5
}
hi
